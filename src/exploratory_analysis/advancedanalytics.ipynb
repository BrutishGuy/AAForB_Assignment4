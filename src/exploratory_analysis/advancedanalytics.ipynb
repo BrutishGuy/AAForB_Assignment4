{
 "cells": [
  {
   "cell_type": "markdown",
   "metadata": {},
   "source": [
    "# TODO\n",
    "- make the paths nice using https://medium.com/@ageitgey/python-3-quick-tip-the-easy-way-to-deal-with-file-paths-on-windows-mac-and-linux-11a072b58d5f"
   ]
  },
  {
   "cell_type": "markdown",
   "metadata": {},
   "source": [
    "## Preprocessing"
   ]
  },
  {
   "cell_type": "code",
   "execution_count": 8,
   "metadata": {},
   "outputs": [],
   "source": [
    "from pathlib import Path\n",
    "data_folder = Path(\"source_data/text_files/\")\n",
    "\n",
    "file_to_open = data_folder / \"raw_data.txt\""
   ]
  },
  {
   "cell_type": "code",
   "execution_count": 9,
   "metadata": {},
   "outputs": [
    {
     "data": {
      "text/plain": [
       "WindowsPath('source_data/text_files')"
      ]
     },
     "execution_count": 9,
     "metadata": {},
     "output_type": "execute_result"
    }
   ],
   "source": [
    "data_folder"
   ]
  },
  {
   "cell_type": "code",
   "execution_count": 2,
   "metadata": {},
   "outputs": [],
   "source": [
    "import numpy as np\n",
    "import pandas as pd\n",
    "import matplotlib.pyplot as plt\n",
    "import seaborn as sns\n",
    "import os \n",
    "\n",
    "%matplotlib inline\n",
    "plt.style.use('ggplot')\n",
    "    "
   ]
  },
  {
   "cell_type": "markdown",
   "metadata": {},
   "source": [
    "## Functions"
   ]
  },
  {
   "cell_type": "code",
   "execution_count": 3,
   "metadata": {},
   "outputs": [],
   "source": [
    "def dating_machine(df):\n",
    "    \"Takes a boring old DataFrame and returns the sexiest dates formatted in the coolest ways\"\n",
    "    df['month'] = pd.to_datetime(arg=df.loc[:, 'date']).dt.month_name()\n",
    "    df['month_n'] = pd.to_datetime(arg=df.loc[:, 'date']).dt.month\n",
    "    df['day'] = pd.to_datetime(arg=df.loc[:, 'date']).dt.day_name()\n",
    "    df['day_y'] = pd.to_datetime(arg=df.loc[:, 'date']).dt.dayofyear\n",
    "    df['day_w'] = pd.to_datetime(arg=df.loc[:, 'date']).dt.dayofweek\n",
    "    df['week_y'] = pd.to_datetime(arg=df.loc[:, 'date']).dt.weekofyear\n",
    "    \n",
    "    return df"
   ]
  },
  {
   "cell_type": "markdown",
   "metadata": {},
   "source": [
    "The `coronavirustrends` folder contains 19 files for each of the subreddits in our shortlist. The subreddits are named by number so they can easily be looped over. "
   ]
  },
  {
   "cell_type": "markdown",
   "metadata": {},
   "source": [
    "# Coronavirus trends"
   ]
  },
  {
   "cell_type": "code",
   "execution_count": 23,
   "metadata": {},
   "outputs": [
    {
     "name": "stdout",
     "output_type": "stream",
     "text": [
      "Number of subreddits extracted: 19\n",
      "['politics', 'lifeprotips', 'dataisbeautiful', 'europe', 'covid19', 'explainlikeimfive', 'nottheonion', 'videos', 'coronavirus', 'iama', 'askscience', 'technology', 'upliftingnews', 'science', 'worldnews', 'askreddit', 'todayilearned', 'news', 'china_flu']\n"
     ]
    },
    {
     "data": {
      "text/html": [
       "<div>\n",
       "<style scoped>\n",
       "    .dataframe tbody tr th:only-of-type {\n",
       "        vertical-align: middle;\n",
       "    }\n",
       "\n",
       "    .dataframe tbody tr th {\n",
       "        vertical-align: top;\n",
       "    }\n",
       "\n",
       "    .dataframe thead th {\n",
       "        text-align: right;\n",
       "    }\n",
       "</style>\n",
       "<table border=\"1\" class=\"dataframe\">\n",
       "  <thead>\n",
       "    <tr style=\"text-align: right;\">\n",
       "      <th></th>\n",
       "      <th>title</th>\n",
       "      <th>subreddit</th>\n",
       "      <th>date</th>\n",
       "      <th>score</th>\n",
       "      <th>month</th>\n",
       "      <th>month_n</th>\n",
       "      <th>day</th>\n",
       "      <th>day_y</th>\n",
       "      <th>day_w</th>\n",
       "      <th>week_y</th>\n",
       "    </tr>\n",
       "  </thead>\n",
       "  <tbody>\n",
       "    <tr>\n",
       "      <th>0</th>\n",
       "      <td>Redditors bored because coronavirus cancelled ...</td>\n",
       "      <td>askreddit</td>\n",
       "      <td>2020-03-13 15:17:31</td>\n",
       "      <td>3</td>\n",
       "      <td>March</td>\n",
       "      <td>3</td>\n",
       "      <td>Friday</td>\n",
       "      <td>73</td>\n",
       "      <td>4</td>\n",
       "      <td>11</td>\n",
       "    </tr>\n",
       "    <tr>\n",
       "      <th>1</th>\n",
       "      <td>Why would a second coronavirus wave breakout i...</td>\n",
       "      <td>askreddit</td>\n",
       "      <td>2020-04-13 05:58:50</td>\n",
       "      <td>1</td>\n",
       "      <td>April</td>\n",
       "      <td>4</td>\n",
       "      <td>Monday</td>\n",
       "      <td>104</td>\n",
       "      <td>0</td>\n",
       "      <td>16</td>\n",
       "    </tr>\n",
       "    <tr>\n",
       "      <th>2</th>\n",
       "      <td>What good things are happening right now but i...</td>\n",
       "      <td>askreddit</td>\n",
       "      <td>2020-04-15 00:10:04</td>\n",
       "      <td>1</td>\n",
       "      <td>April</td>\n",
       "      <td>4</td>\n",
       "      <td>Wednesday</td>\n",
       "      <td>106</td>\n",
       "      <td>2</td>\n",
       "      <td>16</td>\n",
       "    </tr>\n",
       "    <tr>\n",
       "      <th>3</th>\n",
       "      <td>So now, what is the most memorable fake news y...</td>\n",
       "      <td>askreddit</td>\n",
       "      <td>2020-03-28 21:16:05</td>\n",
       "      <td>1</td>\n",
       "      <td>March</td>\n",
       "      <td>3</td>\n",
       "      <td>Saturday</td>\n",
       "      <td>88</td>\n",
       "      <td>5</td>\n",
       "      <td>13</td>\n",
       "    </tr>\n",
       "    <tr>\n",
       "      <th>4</th>\n",
       "      <td>people who had to use the health system during...</td>\n",
       "      <td>askreddit</td>\n",
       "      <td>2020-03-23 23:45:51</td>\n",
       "      <td>1</td>\n",
       "      <td>March</td>\n",
       "      <td>3</td>\n",
       "      <td>Monday</td>\n",
       "      <td>83</td>\n",
       "      <td>0</td>\n",
       "      <td>13</td>\n",
       "    </tr>\n",
       "  </tbody>\n",
       "</table>\n",
       "</div>"
      ],
      "text/plain": [
       "                                               title  subreddit  \\\n",
       "0  Redditors bored because coronavirus cancelled ...  askreddit   \n",
       "1  Why would a second coronavirus wave breakout i...  askreddit   \n",
       "2  What good things are happening right now but i...  askreddit   \n",
       "3  So now, what is the most memorable fake news y...  askreddit   \n",
       "4  people who had to use the health system during...  askreddit   \n",
       "\n",
       "                  date  score  month  month_n        day  day_y  day_w  week_y  \n",
       "0  2020-03-13 15:17:31      3  March        3     Friday     73      4      11  \n",
       "1  2020-04-13 05:58:50      1  April        4     Monday    104      0      16  \n",
       "2  2020-04-15 00:10:04      1  April        4  Wednesday    106      2      16  \n",
       "3  2020-03-28 21:16:05      1  March        3   Saturday     88      5      13  \n",
       "4  2020-03-23 23:45:51      1  March        3     Monday     83      0      13  "
      ]
     },
     "execution_count": 23,
     "metadata": {},
     "output_type": "execute_result"
    }
   ],
   "source": [
    "# Point to directory containing data\n",
    "DATA_DIR = 'C:\\\\Users\\\\delah\\\\Documents\\\\Programming\\\\workspace\\\\AAForB_Assignment4\\\\data'\n",
    "ANALYSIS_DIR = '\\\\coronavirustrends'\n",
    "INPUT_DIR = '\\\\input'\n",
    "OUTPUT_DIR = '\\\\output'\n",
    "VIS_DIR = 'C:\\\\Users\\\\delah\\\\Documents\\\\Programming\\\\workspace\\\\AAForB_Assignment4\\\\outputs\\\\exploratory_analysis\\\\coronatrends\\\\'\n",
    "\n",
    "\n",
    "os.chdir(DATA_DIR + ANALYSIS_DIR + INPUT_DIR)\n",
    "\n",
    "# Importing data and renaming columns\n",
    "df = pd.DataFrame()\n",
    "for i in range(1,20):\n",
    "    temp = pd.read_csv(str(i))\n",
    "    df = df.append(temp)\n",
    "    \n",
    "df = df.rename(columns={'p.title':'title','s.display_name':'subreddit','p.created_utc_str':'date','p.score':'score'})\n",
    "\n",
    "# Extract subreddits\n",
    "subreddits = list(set(df.loc[:,['subreddit']].values.flatten()))\n",
    "print(\"Number of subreddits extracted:\", len(list(subreddits)))\n",
    "print(subreddits)\n",
    "\n",
    "# Get months, weeks and days\n",
    "df = dating_machine(df)\n",
    "\n",
    "df.head()\n",
    "                 "
   ]
  },
  {
   "cell_type": "code",
   "execution_count": 17,
   "metadata": {},
   "outputs": [],
   "source": [
    "os.chdir(DATA_DIR + ANALYSIS_DIR + OUTPUT_DIR)\n",
    "df.to_csv('coronavirus_trends.csv')"
   ]
  },
  {
   "cell_type": "markdown",
   "metadata": {},
   "source": [
    "## Exploration"
   ]
  },
  {
   "cell_type": "markdown",
   "metadata": {},
   "source": [
    "summary statistics"
   ]
  },
  {
   "cell_type": "code",
   "execution_count": 18,
   "metadata": {},
   "outputs": [
    {
     "name": "stdout",
     "output_type": "stream",
     "text": [
      "               score       month_n         day_y         day_w        week_y\n",
      "count   32303.000000  32303.000000  32303.000000  32303.000000  32303.000000\n",
      "mean      464.084543      3.276662     85.156982      2.952481     12.886357\n",
      "std      3599.620684      0.700232     18.833352      1.966565      2.707421\n",
      "min         0.000000      1.000000     14.000000      0.000000      3.000000\n",
      "25%         1.000000      3.000000     75.000000      1.000000     11.000000\n",
      "50%         4.000000      3.000000     87.000000      3.000000     13.000000\n",
      "75%        33.000000      4.000000    101.000000      5.000000     15.000000\n",
      "max    104082.000000      4.000000    114.000000      6.000000     17.000000\n",
      "\n",
      "<class 'pandas.core.frame.DataFrame'>\n",
      "Int64Index: 32303 entries, 0 to 76\n",
      "Data columns (total 10 columns):\n",
      "title        32303 non-null object\n",
      "subreddit    32303 non-null object\n",
      "date         32303 non-null object\n",
      "score        32303 non-null int64\n",
      "month        32303 non-null object\n",
      "month_n      32303 non-null int64\n",
      "day          32303 non-null object\n",
      "day_y        32303 non-null int64\n",
      "day_w        32303 non-null int64\n",
      "week_y       32303 non-null int64\n",
      "dtypes: int64(5), object(5)\n",
      "memory usage: 2.7+ MB\n",
      "None\n"
     ]
    }
   ],
   "source": [
    "print(df.describe())\n",
    "print()\n",
    "print(df.info())"
   ]
  },
  {
   "cell_type": "markdown",
   "metadata": {},
   "source": [
    "## Univariate Exploration"
   ]
  },
  {
   "cell_type": "code",
   "execution_count": 25,
   "metadata": {},
   "outputs": [
    {
     "data": {
      "image/png": "[encoded data removed]",
      "text/plain": [
       "<Figure size 1440x720 with 1 Axes>"
      ]
     },
     "metadata": {},
     "output_type": "display_data"
    }
   ],
   "source": [
    "fig = plt.figure(figsize=(20,10))\n",
    "ax = fig.add_subplot(1,1,1)\n",
    "chart = sns.countplot(data=df,x='subreddit',ax=ax, order=df['subreddit'].value_counts().index)\n",
    "ax.set_xticklabels(rotation=90,labels=ax.get_xticklabels())\n",
    "plot_name = 'count_of_posts_per_subreddit'\n",
    "plt.savefig(fname=VIS_DIR + plot_name)"
   ]
  },
  {
   "cell_type": "markdown",
   "metadata": {},
   "source": [
    "Most subreddits have less than 1000 posts made over the four month period containing terms about the coronavirus. \n",
    "We also notice that the first four subreddits peak at 5000. The query on cypher was limited at 5000 for computational efficiency. It is likely that more posts had been made during that time.\n",
    "Since there is such a discrepancy in volume of these subreddits we decide to continue the analysis with the 9 most popular subreddits. We decided to include a few non popular subreddits to monitor their behavior for further queries.\n",
    "\n",
    "\n",
    "**IT FOLLOWS EXPONENTIAL DECAY. VICTORIZE THIS TEXT**"
   ]
  },
  {
   "cell_type": "code",
   "execution_count": null,
   "metadata": {},
   "outputs": [],
   "source": [
    "# Filter out the original dataframe to only contain the 7 most popular subreddits\n",
    "top_7_subreddits = list(df['subreddit'].value_counts().index[0:7])\n",
    "sub = df.loc[:,'subreddit']\n",
    "df7 = df.loc[sub.isin(top_7_subreddits)]\n",
    "df7_very_low_scores = df7.loc[(df7.loc[:,'score'] < 100)]\n",
    "df7_low_scores = df7.loc[(df7.loc[:,'score'] < 2000) & (df7.loc[:,'score'] > 100)]\n",
    "df7_high_scores = df7.loc[df7.loc[:,'score'] > 2000]\n",
    "\n",
    "# Creating figures and axes\n",
    "fig = plt.figure(figsize=(30,7))\n",
    "ax1 = fig.add_subplot(2,4,1)\n",
    "ax2 = fig.add_subplot(2,4,2)\n",
    "ax3 = fig.add_subplot(2,4,3)\n",
    "ax4 = fig.add_subplot(2,4,4)\n",
    "ax5 = fig.add_subplot(2,4,5)\n",
    "ax6 = fig.add_subplot(2,4,6)\n",
    "ax7 = fig.add_subplot(2,4,7)\n",
    "ax8 = fig.add_subplot(2,4,8)\n",
    "\n",
    "\n",
    "# Titles\n",
    "fig.suptitle(\" Boxplots of the post's scores for the top 7 subreddits\")\n",
    "ax1.set_title('Scores x < 100')\n",
    "ax2.set_title('Scores 100 < x < 2000')\n",
    "ax3.set_title('Scores x > 2000')\n",
    "ax4.set_title('All scores')\n",
    "\n",
    "\n",
    "# Boxplots\n",
    "sns.boxplot(data=df7_very_low_scores,x='subreddit',y='score',ax=ax1)\n",
    "sns.boxplot(data=df7_low_scores,x='subreddit',y='score',ax=ax2)\n",
    "sns.boxplot(data=df7_high_scores,x='subreddit',y='score',ax=ax3)\n",
    "sns.boxplot(data=df7,x='subreddit',y='score',ax=ax4)\n",
    "\n",
    "\n",
    "# Countplots\n",
    "sns.distplot(a=df7_very_low_scores.score, ax=ax5)\n",
    "sns.distplot(a=df7_low_scores.score, ax=ax6)\n",
    "sns.distplot(a=df7_high_scores.score, ax=ax7)\n",
    "sns.distplot(a=df7.score, ax=ax8)\n",
    "\n"
   ]
  },
  {
   "cell_type": "code",
   "execution_count": null,
   "metadata": {},
   "outputs": [],
   "source": [
    "fig = plt.figure(figsize=(20,5))\n",
    "\n",
    "ax1 = fig.add_subplot(1,3,1)\n",
    "ax2= fig.add_subplot(1,3,2)\n",
    "ax3= fig.add_subplot(1,3,3)\n",
    "\n",
    "\n",
    "fig.suptitle(\"Trends concerning reddit posts containing the words 'coronavirus' and 'covid' \" )\n",
    "ax1.set_title('Number of posts per subreddit')\n",
    "ax2.set_title('Total karma per subreddit')\n",
    "ax3.set_title('Number of posts over the whole period')\n",
    "\n",
    "\n",
    "df7.groupby(by='subreddit').count().score.plot(kind='bar',ax=ax1)\n",
    "df7.groupby(by='subreddit').sum().score.plot(kind='bar',ax=ax2)\n",
    "df7.groupby(by='week_y').count().score.plot(ax=ax3)\n",
    "\n",
    "\n",
    "y1 = df7.groupby(by='subreddit').count().score.values\n",
    "for i, v in enumerate(y1):\n",
    "    ax1.text(x=i -0.25 ,y= v + 50 , s=str(v), color='black', fontweight='bold')\n",
    "    \n",
    "y2 = df7.groupby(by='subreddit').sum().score.values\n",
    "for i, v in enumerate(y2):\n",
    "    ax2.text(x=i -0.5 ,y= v + 100000 , s=str(v), color='black', fontweight='bold')"
   ]
  },
  {
   "cell_type": "code",
   "execution_count": null,
   "metadata": {},
   "outputs": [],
   "source": [
    "fig = plt.figure(figsize=(20,5))\n",
    "\n",
    "\n",
    "ax1 = fig.add_subplot(1,3,1)\n",
    "ax2= fig.add_subplot(1,3,2)\n",
    "ax3= fig.add_subplot(1,3,3)\n",
    "\n",
    "\n",
    "fig.suptitle(\"Trends concerning reddit posts containing the words 'coronavirus' and 'covid' \" )\n",
    "ax1.set_title('Number of posts per subreddit')\n",
    "ax2.set_title('Total karma per subreddit')\n",
    "ax3.set_title('Number of posts over the whole period')\n",
    "\n",
    "\n",
    "df7.groupby(by='subreddit').count().score.plot(kind='bar',ax=ax1)\n",
    "df7.groupby(by='subreddit').sum().score.plot(kind='bar',ax=ax2)\n",
    "df7.groupby(by='week_y').count().score.plot(ax=ax3)\n",
    "\n",
    "\n",
    "y1 = df7.groupby(by='subreddit').count().score.values\n",
    "for i, v in enumerate(y1):\n",
    "    ax1.text(x=i -0.2 ,y= v + 50 , s=str(v), color='black', fontweight='bold')\n",
    "    \n",
    "y2 = df7.groupby(by='subreddit').sum().score.values\n",
    "for i, v in enumerate(y2):\n",
    "    ax2.text(x=i -0.5 ,y= v + 100000 , s=str(v), color='black', fontweight='bold')"
   ]
  },
  {
   "cell_type": "markdown",
   "metadata": {},
   "source": [
    "**Remark**\n",
    "\n",
    "The plot below shows that we have data over the entire period. However the majority of the data comes from the latest months. we need more data"
   ]
  },
  {
   "cell_type": "code",
   "execution_count": null,
   "metadata": {},
   "outputs": [],
   "source": [
    "min(df.date.values)"
   ]
  },
  {
   "cell_type": "code",
   "execution_count": null,
   "metadata": {},
   "outputs": [],
   "source": [
    "g = sns.FacetGrid(data=df,col='subreddit')\n",
    "g = g.map(plt.scatter, 'day_y','score')"
   ]
  },
  {
   "cell_type": "markdown",
   "metadata": {},
   "source": [
    "## Repost analysis"
   ]
  },
  {
   "cell_type": "code",
   "execution_count": null,
   "metadata": {},
   "outputs": [],
   "source": [
    "reposts = list(set(df.loc[df.title.duplicated()].title.values))\n",
    "df_reposts = df[df.title.isin(reposts)]\n",
    "\n",
    "post_amount_t = df.shape[0]\n",
    "repost_amount_u = len(reposts)\n",
    "repost_amount_t = df_reposts.shape[0]\n",
    "reposts_percentage_u = round(repost_amount_u / post_amount_t,2)\n",
    "reposts_percentage_t = round(repost_amount_t / post_amount_t,2) \n",
    "\n",
    "\n",
    "print(\"Amount of posts in the dataframe:\", post_amount_t)\n",
    "print(\"Amount of unique reposts with the exact same title:\",repost_amount_u)\n",
    "print(\"Percentage of reposts\", reposts_percentage_u,'%'  )\n",
    "print(\"Total amount of reposts with the exact same title:\",repost_amount_t)\n",
    "print(\"Percentage of reposts\", reposts_percentage_t,'%'  )\n",
    "\n",
    "\n",
    "\n"
   ]
  },
  {
   "cell_type": "code",
   "execution_count": null,
   "metadata": {},
   "outputs": [],
   "source": [
    "fig = plt.figure()\n",
    "fig.suptitle('Amount of reposts per subreddit')\n",
    "ax = fig.add_subplot(1,1,1)\n",
    "df_reposts.groupby(by='subreddit').count().title.sort_values(ascending=False).plot(kind='bar',ax=ax)"
   ]
  },
  {
   "cell_type": "code",
   "execution_count": null,
   "metadata": {},
   "outputs": [],
   "source": [
    "print(df.loc[df.loc[:,'title'] == 'Prince Charles tests positive for coronavirus'].shape)\n",
    "df.loc[df.loc[:,'title'] == 'Prince Charles tests positive for coronavirus']"
   ]
  },
  {
   "cell_type": "code",
   "execution_count": null,
   "metadata": {},
   "outputs": [],
   "source": [
    "#TODO: Give this a title\n",
    "\n",
    "fig = plt.figure(figsize=(20,5))\n",
    "ax1 = fig.add_subplot(1,2,1)\n",
    "ax2 = fig.add_subplot(1,2,2)\n",
    "\n",
    "test = df_reposts.groupby(by='subreddit').count().title\n",
    "ax1.bar(x= test.index,height=test.values)\n",
    "ax1.set_xticklabels(rotation=90,labels=test.index)\n",
    "\n",
    "test2 = df.groupby(by='subreddit').count().title\n",
    "ax2.bar(x= test2.index,height=test2.values)\n",
    "ax2.set_xticklabels(rotation=90,labels=test.index)"
   ]
  },
  {
   "cell_type": "markdown",
   "metadata": {},
   "source": [
    "There are a lot of reposts. How often does bullshit get reposted?"
   ]
  },
  {
   "cell_type": "markdown",
   "metadata": {},
   "source": [
    "# Neo4J Queries"
   ]
  },
  {
   "cell_type": "markdown",
   "metadata": {},
   "source": [
    "## Reposts"
   ]
  },
  {
   "cell_type": "markdown",
   "metadata": {},
   "source": [
    "How often the article about prince charles is reposted"
   ]
  },
  {
   "cell_type": "raw",
   "metadata": {},
   "source": [
    "MATCH (u:User)--(p:Post {title:'Prince Charles tests positive for coronavirus'})--(s:Subreddit {display_name:'worldnews'})\n",
    "RETURN p, s,u\n",
    "LIMIT 100"
   ]
  },
  {
   "cell_type": "markdown",
   "metadata": {},
   "source": [
    "What is the most reposted article on covid containing bullshit"
   ]
  },
  {
   "cell_type": "code",
   "execution_count": null,
   "metadata": {},
   "outputs": [],
   "source": [
    "# Filter out the original dataframe to only contain the 7 most popular subreddits\n",
    "top_7_subreddits = list(df['subreddit'].value_counts().index[0:7])\n",
    "sub = df_reposts.loc[:,'subreddit']\n",
    "\n",
    "#df7 = df.loc[sub.isin(top_7_subreddits)]\n",
    "df7 = df_reposts.loc[sub.isin(top_7_subreddits)]\n",
    "df7_very_low_scores = df7.loc[(df7.loc[:,'score'] < 100)]\n",
    "df7_low_scores = df7.loc[(df7.loc[:,'score'] < 2000) & (df7.loc[:,'score'] > 100)]\n",
    "df7_high_scores = df7.loc[df7.loc[:,'score'] > 2000]\n",
    "\n",
    "# Creating figures and axes\n",
    "fig = plt.figure(figsize=(30,7))\n",
    "ax1 = fig.add_subplot(2,4,1)\n",
    "ax2 = fig.add_subplot(2,4,2)\n",
    "ax3 = fig.add_subplot(2,4,3)\n",
    "ax4 = fig.add_subplot(2,4,4)\n",
    "ax5 = fig.add_subplot(2,4,5)\n",
    "ax6 = fig.add_subplot(2,4,6)\n",
    "ax7 = fig.add_subplot(2,4,7)\n",
    "ax8 = fig.add_subplot(2,4,8)\n",
    "\n",
    "\n",
    "# Titles\n",
    "fig.suptitle(\" Boxplots of the post's scores for the top 7 subreddits\")\n",
    "ax1.set_title('Scores x < 100')\n",
    "ax2.set_title('Scores 100 < x < 2000')\n",
    "ax3.set_title('Scores x > 2000')\n",
    "ax4.set_title('All scores')\n",
    "\n",
    "\n",
    "# Boxplots\n",
    "sns.boxplot(data=df7_very_low_scores,x='subreddit',y='score',ax=ax1)\n",
    "sns.boxplot(data=df7_low_scores,x='subreddit',y='score',ax=ax2)\n",
    "sns.boxplot(data=df7_high_scores,x='subreddit',y='score',ax=ax3)\n",
    "sns.boxplot(data=df7,x='subreddit',y='score',ax=ax4)\n",
    "\n",
    "\n",
    "# Countplots\n",
    "sns.distplot(a=df7_very_low_scores.score, ax=ax5)\n",
    "sns.distplot(a=df7_low_scores.score, ax=ax6)\n",
    "sns.distplot(a=df7_high_scores.score, ax=ax7)\n",
    "sns.distplot(a=df7.score, ax=ax8)\n",
    "\n"
   ]
  },
  {
   "cell_type": "markdown",
   "metadata": {},
   "source": [
    "# 1 Separation of queries: \n",
    "We should find a way to return graphs of posts, users and subreddits, one subreddit at a time. This is computationally easier to handle for our pc's. The queries will be simpler, and it will be more manual work. However once we have all these separate files we can merge them together into a big connected graph. It is not clear to me yet which approach is easiest.\n",
    "1.  Exporting all the data in a csv and merging the csv's together and importing the data into gephi OR\n",
    "2.  Exporting the graphml files and merging them\n"
   ]
  },
  {
   "cell_type": "markdown",
   "metadata": {},
   "source": [
    "# 2 Reducing Complexity of the database"
   ]
  },
  {
   "cell_type": "markdown",
   "metadata": {},
   "source": [
    "## 2.1 User short list\n",
    "Most users are shitposting karma-whoring people that have no real contribution to the platform. We should limit ourselves to highly contributing members. Francois and I discussed to approaches for this.\n",
    "### 2.1.1 Subreddit driven approach: \n",
    "For each of the three main corona subreddits we need to return the top 100 posts with the highest karma. For these 300 posts we extract the users that made them. These are intensive reddit users that a high Impact within these three subreddits.\n"
   ]
  },
  {
   "cell_type": "code",
   "execution_count": null,
   "metadata": {},
   "outputs": [],
   "source": [
    "HOME_DIR = 'C:\\\\Users\\\\delah\\\\Google Drive\\\\University\\\\KULeuven Master of Artificial Intelligence\\\\Courses\\\\Advanced Analytics in a Big Data World\\\\assignment 4\\\\csv\\\\' \n",
    "DATA_DIR = 'usershortlist'\n",
    "os.chdir(HOME_DIR + DATA_DIR)\n",
    "\n",
    "files = ['china_flu','coronavirus','covid19']\n",
    "\n",
    "users = pd.DataFrame()\n",
    "for file in files:\n",
    "    temp = pd.read_csv(file)\n",
    "    users = users.append(temp)\n",
    "    \n",
    "users = users.rename(columns={'p.title':'title','s.display_name':'subreddit','p.score':'score','u.username':'username'})\n",
    "\n",
    "\n",
    "print(\"Users shape:\", users.shape)\n",
    "print(users.describe(), '\\n')\n",
    "print(users.info())\n",
    "usernames = users.username.values\n",
    "#print(usernames)  # print this to get the full list in Neo4J compatible format\n",
    "\n",
    "\n",
    "users_n = users"
   ]
  },
  {
   "cell_type": "code",
   "execution_count": null,
   "metadata": {},
   "outputs": [],
   "source": [
    "users.to_csv('users_shortlist.csv')"
   ]
  },
  {
   "cell_type": "markdown",
   "metadata": {},
   "source": [
    "### 2.2.2 user driven approach: \n",
    "Return the list of users that have posted in all three subreddits, Of this list, take those with the highest karma.\n",
    "There will be some overlap in users between the subreddit driven approach and the user driven approach which is good. The former emphasize highly contributing members within each community, while the latter emphasizes on members that connect communities (with or without reposts)."
   ]
  },
  {
   "cell_type": "code",
   "execution_count": null,
   "metadata": {},
   "outputs": [],
   "source": [
    "HOME_DIR = 'C:\\\\Users\\\\delah\\\\Google Drive\\\\University\\\\KULeuven Master of Artificial Intelligence\\\\Courses\\\\Advanced Analytics in a Big Data World\\\\assignment 4\\\\csv\\\\' \n",
    "DATA_DIR = 'usershortlist'\n",
    "os.chdir(HOME_DIR + DATA_DIR)\n",
    "\n",
    "file = 'francoisshortlist'\n",
    "\n",
    "users = pd.read_csv(file)\n",
    "    \n",
    "users = users.rename(columns={'my_N_Users':'username','cntDiffPosts':'post_count'})\n",
    "\n",
    "\n",
    "print(\"Users shape:\", users.shape)\n",
    "print(users.describe(), '\\n')\n",
    "print(users.info())\n",
    "usernames = users.username.values\n",
    "#print(usernames)  # print this to get the full list in Neo4J compatible format\n",
    "\n",
    "\n",
    "users_f = users"
   ]
  },
  {
   "cell_type": "code",
   "execution_count": null,
   "metadata": {},
   "outputs": [],
   "source": [
    "print('Length of the user driven approach list:' + len(users_f.loc[:,['username']]))\n",
    "print('Length of the subreddit driven approach list' + len(users_n.loc[:,['username']]))\n",
    "users_master_list = users_f.loc[:,['username']].append(users_n.loc[:,['username']])\n",
    "print('Length of both lists:' + len(users_master_list))\n",
    "print('Length of both lists when removing duplicates' + len(set(users_master_list.values.flatten())))\n",
    "users_master_list.to_csv('users_master_list.csv')"
   ]
  },
  {
   "cell_type": "code",
   "execution_count": null,
   "metadata": {},
   "outputs": [],
   "source": [
    "usernames = list(set(users_master_list.values.flatten())) # print this to get the full list in Neo4J compatible format\n",
    "#usernames"
   ]
  },
  {
   "cell_type": "markdown",
   "metadata": {},
   "source": [
    "## 2.2 subreddits: \n",
    "There are too many subreddits to query. Even with our user's shorts, if we query all the posts they make and their respective subreddits we will have a data explosion. Only limiting ourselves to the three main subreddits seems too\n",
    "limiting too. We limit our queries to the subreddits from a new shortlist I made based on the \"Biggest subreddits\" list I posted above. The new list is shorted and contains the 7 subreddits that have the most posts related to corona."
   ]
  },
  {
   "cell_type": "code",
   "execution_count": null,
   "metadata": {},
   "outputs": [],
   "source": [
    "subreddits"
   ]
  },
  {
   "cell_type": "markdown",
   "metadata": {},
   "source": [
    "**Don't forget to add datascience and machinelearning**"
   ]
  },
  {
   "cell_type": "markdown",
   "metadata": {},
   "source": [
    "## 2.3 posts:\n",
    "While many subreddits like /r/news have fewer than 5000 posts made for the entire period of analysis, others like /r/coronavirus have 5000 posts just for the april period. Again the goal is here to filter on posts that cover the coronacrisis.\n",
    "However we want to limit that pool even further to reduce the total complexity of the file.\n",
    "       @François Chandelle Let me know what you think of this.\n",
    "### 2.3.1 for the three mainsubreddits:\n",
    "we export all the posts made by our shortlist of users\n"
   ]
  },
  {
   "cell_type": "code",
   "execution_count": null,
   "metadata": {},
   "outputs": [],
   "source": [
    "posts.loc[:,['subreddit','title']].groupby('subreddit').sum().sort_values(by='title', ascending=False).reset_index() "
   ]
  },
  {
   "cell_type": "code",
   "execution_count": null,
   "metadata": {},
   "outputs": [],
   "source": [
    "total_posts_per_subreddit = posts.loc[:,['subreddit','title']].groupby('subreddit').count().sort_values(by='title',  ascending=False)\n",
    "total_posts_per_subreddit = total_posts_per_subreddit.rename(columns={'title':'total_posts_per_user'}).reset_index() "
   ]
  },
  {
   "cell_type": "code",
   "execution_count": null,
   "metadata": {},
   "outputs": [],
   "source": [
    "total_scores_per_subreddit"
   ]
  },
  {
   "cell_type": "code",
   "execution_count": null,
   "metadata": {},
   "outputs": [],
   "source": [
    "import pandas as pd\n",
    "import os\n",
    "HOME_DIR = 'C:\\\\Users\\\\delah\\\\Google Drive\\\\University\\\\KULeuven Master of Artificial Intelligence\\\\Courses\\\\Advanced Analytics in a Big Data World\\\\assignment 4\\\\csv\\\\' \n",
    "DATA_DIR = 'mainthreeposts'\n",
    "os.chdir(HOME_DIR + DATA_DIR)\n",
    "\n",
    "\n",
    "files = ['china_flu_complete','coronavirus_complete','covid19_complete']\n",
    "\n",
    "posts = pd.DataFrame()\n",
    "for file in files:\n",
    "    temp = pd.read_csv(file)\n",
    "    posts = posts.append(temp)\n",
    "\n",
    "#Cleaning posts dataframe\n",
    "posts = posts.rename(columns={'p.title':'title','s.display_name':'subreddit','p.score':'score','u.username':'username','u.link_karma':'link_karma','u.comment_karma':'comment_karma', 'p.created_utc_str':'date','p.upvote_ratio':'upvote_ratio'})\n",
    "posts = dating_machine(posts)\n",
    "\n",
    "#Saving Dataframe\n",
    "#posts.to_csv('poststhreemainsubreddits_uncompleteshortlist_of_users.csv')\n",
    "\n",
    "\n",
    "#Groupby's \n",
    "# Users\n",
    "total_posts_per_user = posts.loc[:,['username','title']].groupby('username').count().sort_values(by='title',  ascending=False)\n",
    "total_posts_per_user = total_posts_per_user.rename(columns={'title':'total_posts_per_user'}).reset_index() \n",
    "total_scores_per_user = posts.loc[:,['username','score']].groupby('username').sum().sort_values(by='score', ascending=False).reset_index() \n",
    "total_scores_per_user = total_scores_per_user.rename(columns={'score':'total_score_per_user'})\n",
    "\n",
    "#Subreddit \n",
    "total_posts_per_subreddit = posts.loc[:,['subreddit','title']].groupby('subreddit').count().sort_values(by='title',  ascending=False)\n",
    "total_posts_per_subreddit = total_posts_per_subreddit.rename(columns={'title':'total_posts_per_subreddit'}).reset_index() \n",
    "total_scores_per_subreddit = posts.loc[:,['subreddit','score']].groupby('subreddit').sum().sort_values(by='score', ascending=False).reset_index() \n",
    "total_scores_per_subreddit = total_scores_per_subreddit.rename(columns={'score':'total_scores_per_subreddit'})\n",
    "\n",
    "posts = pd.merge(left=posts,right=total_posts_per_user,how='left',left_on='username',right_on='username')\n",
    "posts = pd.merge(left=posts,right=total_scores_per_user,how='left',left_on='username',right_on='username')\n",
    "posts = pd.merge(left=posts,right=total_posts_per_subreddit,how='left',left_on='subreddit',right_on='subreddit')\n",
    "posts = pd.merge(left=posts,right=total_scores_per_subreddit,how='left',left_on='subreddit',right_on='subreddit')\n",
    "posts['average_karma_per_post'] = posts.loc[:,'total_score_per_user'] / posts.loc[:,'total_posts_per_user']\n",
    "posts.columns\n",
    "\n",
    "\n",
    "#Saving Dataframe\n",
    "posts.to_csv('poststhreemainsubreddits_complete_list_of_users.csv')\n",
    "posts.columns\n"
   ]
  },
  {
   "cell_type": "code",
   "execution_count": null,
   "metadata": {},
   "outputs": [],
   "source": [
    "posts.loc[:,['total_score_per_user']].values.flatten()[0] / posts.loc[:,['total_posts_per_user']].values.flatten()[0]"
   ]
  },
  {
   "cell_type": "markdown",
   "metadata": {},
   "source": [
    "### 2.3.2 for the other subredditss: \n",
    "We only export the posts made by our shortlist of users containing the following keyswords: coronavirus, covid, chloroquine, masks, remdevisir and datadriven keywords found by victor"
   ]
  },
  {
   "cell_type": "code",
   "execution_count": null,
   "metadata": {},
   "outputs": [],
   "source": [
    "#TODO: "
   ]
  },
  {
   "cell_type": "markdown",
   "metadata": {},
   "source": [
    "# Gephi converter\n",
    "To create the final graph we need to convert our data to csv. We will need two types of files, csv containing the node infromation and csv's containing the relationship information. Below we create a csv for each\n",
    "\n",
    "\n",
    "## Nodes table"
   ]
  },
  {
   "cell_type": "code",
   "execution_count": null,
   "metadata": {},
   "outputs": [],
   "source": [
    "# Creating the nodes dataframe\n",
    "nodes = posts.copy()\n",
    "\n",
    "#Processing nodes\n",
    "# Post nodes\n",
    "nodes_post = nodes.loc[:,['p.id','title','date','score','upvote_ratio','month','month_n','day','day_y','day_w','week_y']]\n",
    "nodes_post = nodes_post.rename(columns={'p.id':'Id','title':'Label'})\n",
    "nodes_post = nodes_post.set_index(keys='Id')\n",
    "# User nodes\n",
    "nodes_user = nodes.loc[:,['u.id','username','link_karma','comment_karma','total_posts_per_user','total_score_per_user','average_karma_per_post']]\n",
    "nodes_user = nodes_user.rename(columns={'u.id':'Id','username':'Label'})\n",
    "nodes_user = nodes_user.set_index(keys='Id')\n",
    "# Subreddit nodes\n",
    "nodes_subreddit = nodes.loc[:,['s.id','subreddit','total_posts_per_subreddit','total_scores_per_subreddit']]\n",
    "nodes_subreddit = nodes_subreddit.rename(columns={'s.id':'Id','subreddit':'Label'})\n",
    "nodes_subreddit = nodes_subreddit.set_index(keys='Id')"
   ]
  },
  {
   "cell_type": "markdown",
   "metadata": {},
   "source": [
    "## Relationships Table"
   ]
  },
  {
   "cell_type": "code",
   "execution_count": null,
   "metadata": {},
   "outputs": [],
   "source": [
    "# Creating the relationships dataframe\n",
    "relationships = nodes.loc[:,['u.id','s.id','p.id']]\n",
    "\n",
    "# Processing relationships\n",
    "# User to post relationships\n",
    "rel_user_to_post = nodes.loc[:,['u.id','p.id']]\n",
    "rel_user_to_post['Submitted'] = 'Submitted'\n",
    "rel_user_to_post = rel_user_to_post.rename(columns={'u.id':'Source','p.id':'Target'})\n",
    "\n",
    "# Post to Subreddit relationships\n",
    "rel_post_to_subreddit = nodes.loc[:,['p.id','s.id']]\n",
    "rel_post_to_subreddit['Submitted'] = 'Submitted'\n",
    "rel_post_to_subreddit = rel_post_to_subreddit.rename(columns={'p.id':'Source','s.id':'Target'})"
   ]
  },
  {
   "cell_type": "markdown",
   "metadata": {},
   "source": [
    "### Saving data"
   ]
  },
  {
   "cell_type": "code",
   "execution_count": null,
   "metadata": {},
   "outputs": [],
   "source": [
    "os.chdir('C:\\\\Users\\\\delah\\\\Google Drive\\\\University\\\\KULeuven Master of Artificial Intelligence\\\\Courses\\\\Advanced Analytics in a Big Data World\\\\assignment 4\\\\csv\\\\mainthreeposts')\n",
    "\n",
    "nodes_post.to_csv('nodes_post')\n",
    "nodes_user.to_csv('nodes_user.csv')\n",
    "nodes_subreddit.to_csv('nodes_subreddit.csv')\n",
    "\n",
    "rel_user_to_post.to_csv('rel_user_to_post.csv')\n",
    "rel_post_to_subreddit.to_csv('rel_post_to_subreddit.csv')\n",
    "\n",
    "os.chdir('C:\\\\Users\\\\delah\\\\Google Drive\\\\University\\\\KULeuven Master of Artificial Intelligence\\\\Courses\\\\Advanced Analytics in a Big Data World\\\\assignment 4\\\\csv\\\\mainthreeposts')\n"
   ]
  },
  {
   "cell_type": "code",
   "execution_count": null,
   "metadata": {},
   "outputs": [],
   "source": []
  }
 ],
 "metadata": {
  "kernelspec": {
   "display_name": "Python 3",
   "language": "python",
   "name": "python3"
  },
  "language_info": {
   "codemirror_mode": {
    "name": "ipython",
    "version": 3
   },
   "file_extension": ".py",
   "mimetype": "text/x-python",
   "name": "python",
   "nbconvert_exporter": "python",
   "pygments_lexer": "ipython3",
   "version": "3.6.5"
  }
 },
 "nbformat": 4,
 "nbformat_minor": 2
}
